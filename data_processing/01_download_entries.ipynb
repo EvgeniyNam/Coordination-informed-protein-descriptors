{
 "cells": [
  {
   "cell_type": "markdown",
   "metadata": {},
   "source": [
    "# Download entry IDs"
   ]
  },
  {
   "cell_type": "markdown",
   "metadata": {},
   "source": [
    "We start with downloading entry IDs for the dataset of AA-M<sup>2+</sup> interaction energies for the further processing:"
   ]
  },
  {
   "cell_type": "code",
   "execution_count": 1,
   "metadata": {
    "id": "80d8WoYUF2GV"
   },
   "outputs": [],
   "source": [
    "# imports\n",
    "import requests\n",
    "import csv\n",
    "from tqdm import tqdm"
   ]
  },
  {
   "cell_type": "code",
   "execution_count": 2,
   "metadata": {
    "id": "NZLd_BiqF-v3"
   },
   "outputs": [],
   "source": [
    "# output file\n",
    "path_out = 'data/entry_IDs.csv'\n",
    "\n",
    "# NOMAD Search API URL\n",
    "url = 'https://nomad-lab.eu/prod/v1/api/v1/entries/query'\n",
    "\n",
    "# Creating query\n",
    "query = {\n",
    "    \"datasets.dataset_name:any\": [\n",
    "        \"Cation-coordinated conformers of 20 proteinogenic amino acids with different protonation states\"\n",
    "    ]\n",
    "}\n",
    "\n",
    "# search parameters\n",
    "required = {\n",
    "    \"results\": {'material': {'chemical_formula_reduced': '*'}},\n",
    "    \"metadata\": {'mainfile': '*'},\n",
    "    'entry_id': '*',\n",
    "    'upload_id': '*'\n",
    "}"
   ]
  },
  {
   "cell_type": "code",
   "execution_count": 3,
   "metadata": {
    "colab": {
     "base_uri": "https://localhost:8080/",
     "height": 245
    },
    "id": "7SJs2oLsGCep",
    "outputId": "bdebd3ab-3263-480d-d20b-a9f75a20c295"
   },
   "outputs": [
    {
     "name": "stderr",
     "output_type": "stream",
     "text": [
      "2324it [34:56,  1.61it/s]"
     ]
    },
    {
     "name": "stdout",
     "output_type": "stream",
     "text": [
      "\n",
      "Download is completed.\n"
     ]
    }
   ],
   "source": [
    "# Creating .csv file and writing there required data\n",
    "# The result - list with unique ID, formula and configuration of each structure in the existing database\n",
    "\n",
    "# start parameters\n",
    "page_after_value = None\n",
    "pbar = tqdm()\n",
    "\n",
    "# writing file\n",
    "with open(path_out, 'w', newline='') as file:\n",
    "\n",
    "    # header\n",
    "    writer = csv.writer(file)\n",
    "    writer.writerow(['Mainfile', 'Formula', 'Entry_ID', 'Upload_ID'])\n",
    "\n",
    "    while True:\n",
    "        # request\n",
    "        request = {\n",
    "            'query': query,\n",
    "            'required': required,\n",
    "            'pagination': {'page_after_value': page_after_value}\n",
    "        }\n",
    "        response = requests.post(url, json = request)\n",
    "\n",
    "        # check response data\n",
    "        data = response.json()\n",
    "        if len(data['data']) == 0:\n",
    "            break\n",
    "\n",
    "        # save data\n",
    "        for entry in data['data']:\n",
    "            mainfile = entry['mainfile']\n",
    "            formula = entry['results']['material']['chemical_formula_reduced']\n",
    "            entry_id = entry['entry_id']\n",
    "            upload_id = entry['upload_id']\n",
    "            writer.writerow([mainfile, formula, entry_id, upload_id])\n",
    "\n",
    "        # update pagination\n",
    "        page_after_value = data['pagination'].get('next_page_after_value', None)\n",
    "        if not page_after_value:\n",
    "            break\n",
    "        \n",
    "        # update progress bar\n",
    "        pbar.update(1)\n",
    "\n",
    "print('\\nDownload is completed.')"
   ]
  }
 ],
 "metadata": {
  "colab": {
   "provenance": []
  },
  "kernelspec": {
   "display_name": "Python 3 (ipykernel)",
   "language": "python",
   "name": "python3"
  },
  "language_info": {
   "codemirror_mode": {
    "name": "ipython",
    "version": 3
   },
   "file_extension": ".py",
   "mimetype": "text/x-python",
   "name": "python",
   "nbconvert_exporter": "python",
   "pygments_lexer": "ipython3",
   "version": "3.10.14"
  }
 },
 "nbformat": 4,
 "nbformat_minor": 4
}
