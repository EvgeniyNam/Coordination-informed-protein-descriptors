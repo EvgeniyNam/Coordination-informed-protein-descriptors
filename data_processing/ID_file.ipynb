{
  "nbformat": 4,
  "nbformat_minor": 0,
  "metadata": {
    "colab": {
      "provenance": []
    },
    "kernelspec": {
      "name": "python3",
      "display_name": "Python 3"
    },
    "language_info": {
      "name": "python"
    }
  },
  "cells": [
    {
      "cell_type": "code",
      "execution_count": null,
      "metadata": {
        "id": "80d8WoYUF2GV"
      },
      "outputs": [],
      "source": [
        "# !pip install requests\n",
        "import requests\n",
        "import csv"
      ]
    },
    {
      "cell_type": "code",
      "source": [
        "url = 'https://nomad-lab.eu/prod/v1/api/v1/entries/query' # url for the source of data - NOMAD\n",
        "\n",
        "# Creating query\n",
        "query = {\n",
        "    \"datasets.dataset_name:any\": [\n",
        "      \"Cation-coordinated conformers of 20 proteinogenic amino acids with different protonation states\"\n",
        "    ]\n",
        "  }\n",
        "\n",
        "# Identification of the required data\n",
        "required = {\n",
        "    \"results\": {\n",
        "        'material': {\n",
        "            'chemical_formula_reduced': '*'\n",
        "        },\n",
        "    },\n",
        "    \"metadata\": {\n",
        "        'mainfile': '*'\n",
        "    },\n",
        "    'entry_id': '*',\n",
        "    'upload_id': '*'\n",
        "\n",
        "        }\n",
        "\n",
        "page_after_value = None"
      ],
      "metadata": {
        "id": "NZLd_BiqF-v3"
      },
      "execution_count": null,
      "outputs": []
    },
    {
      "cell_type": "code",
      "source": [
        "# Creating .csv file and writing there required data\n",
        "# The result - list with unique ID, formula and configuration of each structure in the existing database\n",
        "with open('ID_file.csv', 'w', newline='') as file:\n",
        "    writer = csv.writer(file)\n",
        "    writer.writerow(['Mainfile', 'Formula', 'Entry_id', 'Upload_ID'])\n",
        "\n",
        "    while True:\n",
        "        response = requests.post(\n",
        "          url, json = dict(\n",
        "          query=query,\n",
        "          required=required,\n",
        "          pagination = dict(\n",
        "              page_after_value=page_after_value)))\n",
        "\n",
        "        data = response.json()\n",
        "        if len(data['data']) == 0:\n",
        "          break\n",
        "        page_after_value = data['pagination']['next_page_after_value']\n",
        "\n",
        "\n",
        "        for entry in data['data']:\n",
        "          mainfile = entry['mainfile']\n",
        "          formula = entry['results']['material']['chemical_formula_reduced']\n",
        "          entry_id = entry['entry_id']\n",
        "          upload_id = entry['upload_id']\n",
        "\n",
        "          writer.writerow([mainfile, formula, entry_id, upload_id])\n",
        "print('Создание файла завершено!')"
      ],
      "metadata": {
        "id": "7SJs2oLsGCep",
        "colab": {
          "base_uri": "https://localhost:8080/",
          "height": 245
        },
        "outputId": "bdebd3ab-3263-480d-d20b-a9f75a20c295"
      },
      "execution_count": null,
      "outputs": [
        {
          "output_type": "error",
          "ename": "KeyError",
          "evalue": "ignored",
          "traceback": [
            "\u001b[0;31m---------------------------------------------------------------------------\u001b[0m",
            "\u001b[0;31mKeyError\u001b[0m                                  Traceback (most recent call last)",
            "\u001b[0;32m<ipython-input-6-5ef4f8c0d8f6>\u001b[0m in \u001b[0;36m<cell line: 3>\u001b[0;34m()\u001b[0m\n\u001b[1;32m     16\u001b[0m         \u001b[0;32mif\u001b[0m \u001b[0mlen\u001b[0m\u001b[0;34m(\u001b[0m\u001b[0mdata\u001b[0m\u001b[0;34m[\u001b[0m\u001b[0;34m'data'\u001b[0m\u001b[0;34m]\u001b[0m\u001b[0;34m)\u001b[0m \u001b[0;34m==\u001b[0m \u001b[0;36m0\u001b[0m\u001b[0;34m:\u001b[0m\u001b[0;34m\u001b[0m\u001b[0;34m\u001b[0m\u001b[0m\n\u001b[1;32m     17\u001b[0m           \u001b[0;32mbreak\u001b[0m\u001b[0;34m\u001b[0m\u001b[0;34m\u001b[0m\u001b[0m\n\u001b[0;32m---> 18\u001b[0;31m         \u001b[0mpage_after_value\u001b[0m \u001b[0;34m=\u001b[0m \u001b[0mdata\u001b[0m\u001b[0;34m[\u001b[0m\u001b[0;34m'pagination'\u001b[0m\u001b[0;34m]\u001b[0m\u001b[0;34m[\u001b[0m\u001b[0;34m'next_page_after_value'\u001b[0m\u001b[0;34m]\u001b[0m\u001b[0;34m\u001b[0m\u001b[0;34m\u001b[0m\u001b[0m\n\u001b[0m\u001b[1;32m     19\u001b[0m \u001b[0;34m\u001b[0m\u001b[0m\n\u001b[1;32m     20\u001b[0m \u001b[0;34m\u001b[0m\u001b[0m\n",
            "\u001b[0;31mKeyError\u001b[0m: 'next_page_after_value'"
          ]
        }
      ]
    }
  ]
}