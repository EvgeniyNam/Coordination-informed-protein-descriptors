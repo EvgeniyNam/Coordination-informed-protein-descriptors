{
  "nbformat": 4,
  "nbformat_minor": 0,
  "metadata": {
    "colab": {
      "provenance": []
    },
    "kernelspec": {
      "name": "python3",
      "display_name": "Python 3"
    },
    "language_info": {
      "name": "python"
    }
  },
  "cells": [
    {
      "cell_type": "code",
      "execution_count": null,
      "metadata": {
        "id": "80d8WoYUF2GV"
      },
      "outputs": [],
      "source": [
        "# !pip install requests\n",
        "import requests\n",
        "import csv"
      ]
    },
    {
      "cell_type": "code",
      "source": [
        "url = 'https://nomad-lab.eu/prod/v1/api/v1/entries/query' # url for the source of data - NOMAD\n",
        "\n",
        "# Creating query\n",
        "query = {\n",
        "    \"datasets.dataset_name:any\": [\n",
        "      \"Cation-coordinated conformers of 20 proteinogenic amino acids with different protonation states\"\n",
        "    ]\n",
        "  }\n",
        "\n",
        "# Identification of the required data\n",
        "required = {\n",
        "    \"results\": {\n",
        "        'material': {\n",
        "            'chemical_formula_reduced': '*'\n",
        "        },\n",
        "    },\n",
        "    \"metadata\": {\n",
        "        'mainfile': '*'\n",
        "    },\n",
        "    'entry_id': '*'\n",
        "        }\n",
        "\n",
        "page_after_value = None"
      ],
      "metadata": {
        "id": "NZLd_BiqF-v3"
      },
      "execution_count": null,
      "outputs": []
    },
    {
      "cell_type": "code",
      "source": [
        "# Creating .csv file and writing there required data\n",
        "# The result - list with unique ID, formula and configuration of each structure in the existing database\n",
        "with open('data.csv', 'w', newline='') as file:\n",
        "    writer = csv.writer(file)\n",
        "    writer.writerow(['Mainfile', 'Formula', 'Entry_id'])\n",
        "\n",
        "    while True:\n",
        "        response = requests.post(\n",
        "          url, json = dict(\n",
        "          query=query,\n",
        "          required=required,\n",
        "          pagination = dict(\n",
        "              page_after_value=page_after_value)))\n",
        "\n",
        "        data = response.json()\n",
        "        if len(data['data']) == 0:\n",
        "          break\n",
        "        page_after_value = data['pagination']['next_page_after_value']\n",
        "\n",
        "\n",
        "        for entry in data['data']:\n",
        "          mainfile = entry['mainfile']\n",
        "          formula = entry['results']['material']['chemical_formula_reduced']\n",
        "          entry_id = entry['entry_id']\n",
        "\n",
        "          writer.writerow([mainfile, formula, entry_id])\n",
        "print('Создание файла завершено!')"
      ],
      "metadata": {
        "id": "7SJs2oLsGCep"
      },
      "execution_count": null,
      "outputs": []
    }
  ]
}